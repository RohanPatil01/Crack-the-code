{
 "cells": [
  {
   "cell_type": "code",
   "execution_count": 1,
   "id": "7b0c2a5d",
   "metadata": {},
   "outputs": [
    {
     "name": "stdout",
     "output_type": "stream",
     "text": [
      "Enter any number 357\n"
     ]
    }
   ],
   "source": [
    "import random\n",
    "num=input(\"Enter any number \")\n",
    "list_num=list(num)\n",
    "list_num=list(map(int, list_num))"
   ]
  },
  {
   "cell_type": "code",
   "execution_count": 2,
   "id": "ceeca120",
   "metadata": {},
   "outputs": [
    {
     "name": "stdout",
     "output_type": "stream",
     "text": [
      "One number is correct and well placed :  [0, 6, 7]\n",
      "One number is correct but wrong placed :  [5, 6, 4]\n",
      "Two numbers is correct but wrong placed :  [7, 3, 8]\n",
      "Nothing is correct:  [2, 1, 0]\n",
      "One number is correct but wrong placed :  [6, 0, 5]\n"
     ]
    }
   ],
   "source": [
    "a=0\n",
    "while a!=1:\n",
    "    a=0\n",
    "    hint1=random.sample(range(0,9), 3)\n",
    "    for i in list_num:\n",
    "        for j in hint1:\n",
    "            if i==j:\n",
    "                a+=1\n",
    "                same=i          \n",
    "    try:\n",
    "        if hint1.index(same)!=list_num.index(same):\n",
    "            a=0\n",
    "    except:\n",
    "        a\n",
    "print(\"One number is correct and well placed : \",hint1)\n",
    "a=0\n",
    "while a!=1:\n",
    "    hint2=random.sample(range(0,9), 3)\n",
    "    a=0\n",
    "    for i in list_num:\n",
    "        for j in hint2:\n",
    "            if i==j:\n",
    "                a+=1\n",
    "                same=i          \n",
    "    try:\n",
    "        if hint2.index(same)==list_num.index(same):\n",
    "            a=0\n",
    "    except:\n",
    "        a                \n",
    "print(\"One number is correct but wrong placed : \",hint2)\n",
    "a=0\n",
    "b=0\n",
    "while a!=2:\n",
    "    hint3=random.sample(range(0,9), 3)\n",
    "    a=0\n",
    "    b=0\n",
    "    for i in list_num:\n",
    "        for j in hint3:\n",
    "            if i==j:\n",
    "                a+=1\n",
    "                same=j  \n",
    "        try:\n",
    "            if hint3.index(same)==list_num.index(same):\n",
    "                a=0\n",
    "        except:\n",
    "            a                \n",
    "print(\"Two numbers is correct but wrong placed : \",hint3)\n",
    "a=0\n",
    "while a!=1:\n",
    "    hint4=random.sample(range(0,9), 3)\n",
    "    a=1\n",
    "    for i in list_num:\n",
    "        for j in hint4:\n",
    "            if i==j:\n",
    "                a=0\n",
    "print(\"Nothing is correct: \",hint4)\n",
    "a=0\n",
    "while a!=1:\n",
    "    hint5=random.sample(range(0,9), 3)\n",
    "    a=0\n",
    "    for i in list_num:\n",
    "        for j in hint5:\n",
    "            if i==j:\n",
    "                a+=1\n",
    "                same=i          \n",
    "    try:\n",
    "        if hint5.index(same)==list_num.index(same):\n",
    "            a=0\n",
    "    except:\n",
    "        a\n",
    "    if hint2==hint5:\n",
    "        a=0\n",
    "print(\"One number is correct but wrong placed : \",hint5)"
   ]
  },
  {
   "cell_type": "code",
   "execution_count": null,
   "id": "b022ee87",
   "metadata": {},
   "outputs": [],
   "source": []
  }
 ],
 "metadata": {
  "kernelspec": {
   "display_name": "Python 3 (ipykernel)",
   "language": "python",
   "name": "python3"
  },
  "language_info": {
   "codemirror_mode": {
    "name": "ipython",
    "version": 3
   },
   "file_extension": ".py",
   "mimetype": "text/x-python",
   "name": "python",
   "nbconvert_exporter": "python",
   "pygments_lexer": "ipython3",
   "version": "3.9.13"
  }
 },
 "nbformat": 4,
 "nbformat_minor": 5
}
